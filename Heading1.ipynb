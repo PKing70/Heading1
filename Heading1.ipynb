{
 "cells": [
  {
   "cell_type": "raw",
   "id": "4527fc68-3df1-465b-8db7-55a7bbfe5576",
   "metadata": {},
   "source": [
    "---\n",
    "title: Heading 1\n",
    "nav: false\n",
    "order: 1\n",
    "---"
   ]
  },
  {
   "cell_type": "markdown",
   "id": "29ded532-4979-4f56-8b66-4d379e00965a",
   "metadata": {},
   "source": [
    "## Heading 1\n",
    "\n",
    "This is a sentence"
   ]
  },
  {
   "cell_type": "code",
   "execution_count": 1,
   "id": "dd0fdbe4-76ca-4906-92b9-e45bd4c874b8",
   "metadata": {
    "scrolled": true
   },
   "outputs": [
    {
     "name": "stdout",
     "output_type": "stream",
     "text": [
      "hello world\n"
     ]
    }
   ],
   "source": [
    "print(\"hello world\")"
   ]
  },
  {
   "cell_type": "code",
   "execution_count": null,
   "id": "2bcd5a32-80f0-4bc2-8062-10d357755a54",
   "metadata": {},
   "outputs": [],
   "source": []
  }
 ],
 "metadata": {
  "kernelspec": {
   "display_name": "Python 3 (ipykernel)",
   "language": "python",
   "name": "python3"
  },
  "language_info": {
   "codemirror_mode": {
    "name": "ipython",
    "version": 3
   },
   "file_extension": ".py",
   "mimetype": "text/x-python",
   "name": "python",
   "nbconvert_exporter": "python",
   "pygments_lexer": "ipython3",
   "version": "3.12.0"
  }
 },
 "nbformat": 4,
 "nbformat_minor": 5
}
